{
  "nbformat": 4,
  "nbformat_minor": 0,
  "metadata": {
    "colab": {
      "provenance": [],
      "authorship_tag": "ABX9TyMWocs74EQ2y0uCxXhu6oOx",
      "include_colab_link": true
    },
    "kernelspec": {
      "name": "python3",
      "display_name": "Python 3"
    },
    "language_info": {
      "name": "python"
    }
  },
  "cells": [
    {
      "cell_type": "markdown",
      "metadata": {
        "id": "view-in-github",
        "colab_type": "text"
      },
      "source": [
        "<a href=\"https://colab.research.google.com/github/edgekrtl/100-days-of-code/blob/master/Parallel_Computation.ipynb\" target=\"_parent\"><img src=\"https://colab.research.google.com/assets/colab-badge.svg\" alt=\"Open In Colab\"/></a>"
      ]
    },
    {
      "cell_type": "code",
      "execution_count": null,
      "metadata": {
        "colab": {
          "base_uri": "https://localhost:8080/"
        },
        "id": "_74DNpj-030F",
        "outputId": "fba560be-87b8-4aa5-ea37-fea7481ffd6e"
      },
      "outputs": [
        {
          "output_type": "stream",
          "name": "stdout",
          "text": [
            "Kare: 1Kare: 9\n",
            "Kare: 16\n",
            "\n",
            "Kare: 4Kare: 25\n",
            "\n",
            "Kare: 49\n",
            "Kare: 64Kare: 36\n",
            "\n",
            "Kare: 81\n",
            "Kare: 100\n"
          ]
        }
      ],
      "source": [
        "import multiprocessing\n",
        "\n",
        "# İşlemin paralel olarak yapılacağı fonksiyon\n",
        "def calculate_square(number):\n",
        "    result = number * number\n",
        "    print(f\"Kare: {result}\")\n",
        "\n",
        "# Paralel hesaplama için kullanılacak işlemci sayısı\n",
        "num_processors = multiprocessing.cpu_count()\n",
        "\n",
        "if __name__ == '__main__':\n",
        "    # Paralel hesaplama için işlemci havuzu oluşturulması\n",
        "    pool = multiprocessing.Pool(processes=num_processors)\n",
        "\n",
        "    # Hesaplama yapılacak veri listesi\n",
        "    data = [1, 2, 3, 4, 5, 6, 7, 8, 9, 10]\n",
        "\n",
        "    # Veri listesini parçalara bölmek ve paralel hesaplama yapmak için işlemci havuzunu kullanma\n",
        "    pool.map(calculate_square, data)\n",
        "\n",
        "    # İşlemci havuzunun kapatılması ve kaynakların serbest bırakılması\n",
        "    pool.close()\n",
        "    pool.join()\n"
      ]
    }
  ]
}