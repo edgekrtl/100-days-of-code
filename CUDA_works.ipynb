{
  "nbformat": 4,
  "nbformat_minor": 0,
  "metadata": {
    "colab": {
      "provenance": [],
      "authorship_tag": "ABX9TyOW3wgu1/a1K6e+SQuNr4YN",
      "include_colab_link": true
    },
    "kernelspec": {
      "name": "python3",
      "display_name": "Python 3"
    },
    "language_info": {
      "name": "python"
    }
  },
  "cells": [
    {
      "cell_type": "markdown",
      "metadata": {
        "id": "view-in-github",
        "colab_type": "text"
      },
      "source": [
        "<a href=\"https://colab.research.google.com/github/edgekrtl/100-days-of-code/blob/master/CUDA_works.ipynb\" target=\"_parent\"><img src=\"https://colab.research.google.com/assets/colab-badge.svg\" alt=\"Open In Colab\"/></a>"
      ]
    },
    {
      "cell_type": "markdown",
      "source": [
        "# CUDA\n"
      ],
      "metadata": {
        "id": "KQSq2Vj72SB8"
      }
    },
    {
      "cell_type": "code",
      "execution_count": 4,
      "metadata": {
        "colab": {
          "base_uri": "https://localhost:8080/"
        },
        "id": "fHyq2ECz2QOd",
        "outputId": "7395c63c-1ab9-439e-a5b0-cae910712d27"
      },
      "outputs": [
        {
          "output_type": "stream",
          "name": "stdout",
          "text": [
            "Overwriting example.c\n"
          ]
        }
      ],
      "source": [
        "%%file example.c\n",
        "#include <stdio.h>\n",
        "\n",
        "__global__ void vectorAdd(int *a, int *b, int *c, int n) {\n",
        "    int i = blockIdx.x * blockDim.x + threadIdx.x;\n",
        "    if (i < n) {\n",
        "        c[i] = a[i] + b[i];\n",
        "    }\n",
        "}\n",
        "\n",
        "int main() {\n",
        "    int n = 1000;\n",
        "    int *a, *b, *c;  // Host (CPU) belleği için vektörler\n",
        "    int *d_a, *d_b, *d_c;  // Device (GPU) belleği için vektörler\n",
        "\n",
        "    // Bellek ayırma\n",
        "    a = (int*)malloc(n * sizeof(int));\n",
        "    b = (int*)malloc(n * sizeof(int));\n",
        "    c = (int*)malloc(n * sizeof(int));\n",
        "\n",
        "    // Host (CPU) belleğinde vektörlerin değerlerini ata\n",
        "    for (int i = 0; i < n; i++) {\n",
        "        a[i] = i;\n",
        "        b[i] = i;\n",
        "    }\n",
        "\n",
        "    // Device (GPU) belleği için bellek ayırma\n",
        "    cudaMalloc(&d_a, n * sizeof(int));\n",
        "    cudaMalloc(&d_b, n * sizeof(int));\n",
        "    cudaMalloc(&d_c, n * sizeof(int));\n",
        "\n",
        "    // Host'tan Device'a veri kopyalama\n",
        "    cudaMemcpy(d_a, a, n * sizeof(int), cudaMemcpyHostToDevice);\n",
        "    cudaMemcpy(d_b, b, n * sizeof(int), cudaMemcpyHostToDevice);\n",
        "\n",
        "    // CUDA işlemi için blok ve iş parçacığı konfigürasyonu\n",
        "    int blockSize = 256;\n",
        "    int numBlocks = (n + blockSize - 1) / blockSize;\n",
        "\n",
        "    // CUDA işlemini başlatma\n",
        "    vectorAdd<<<numBlocks, blockSize>>>(d_a, d_b, d_c, n);\n",
        "\n",
        "    // Sonucu Device'tan Host'a kopyalama\n",
        "    cudaMemcpy(c, d_c, n * sizeof(int), cudaMemcpyDeviceToHost);\n",
        "\n",
        "    // Sonucu ekrana yazdırma\n",
        "    for (int i = 0; i < n; i++) {\n",
        "        printf(\"%d + %d = %d\\n\", a[i], b[i], c[i]);\n",
        "    }\n",
        "\n",
        "    // Bellekleri serbest bırakma\n",
        "    free(a);\n",
        "    free(b);\n",
        "    free(c);\n",
        "    cudaFree(d_a);\n",
        "    cudaFree(d_b);\n",
        "    cudaFree(d_c);\n",
        "\n",
        "    return 0;\n",
        "}\n"
      ]
    }
  ]
}