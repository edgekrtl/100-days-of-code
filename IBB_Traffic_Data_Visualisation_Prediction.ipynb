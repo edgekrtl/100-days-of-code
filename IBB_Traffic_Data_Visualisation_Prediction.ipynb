{
  "nbformat": 4,
  "nbformat_minor": 0,
  "metadata": {
    "colab": {
      "provenance": [],
      "authorship_tag": "ABX9TyNlv/Cn0TFzdTfJakIUFTKv",
      "include_colab_link": true
    },
    "kernelspec": {
      "name": "python3",
      "display_name": "Python 3"
    },
    "language_info": {
      "name": "python"
    }
  },
  "cells": [
    {
      "cell_type": "markdown",
      "metadata": {
        "id": "view-in-github",
        "colab_type": "text"
      },
      "source": [
        "<a href=\"https://colab.research.google.com/github/edgekrtl/100-days-of-code/blob/master/IBB_Traffic_Data_Visualisation_Prediction.ipynb\" target=\"_parent\"><img src=\"https://colab.research.google.com/assets/colab-badge.svg\" alt=\"Open In Colab\"/></a>"
      ]
    },
    {
      "cell_type": "code",
      "source": [
        "from google.colab import drive\n",
        "drive.mount('/content/drive')"
      ],
      "metadata": {
        "colab": {
          "base_uri": "https://localhost:8080/"
        },
        "id": "a6GnAMaFgzqs",
        "outputId": "fb0de026-b270-4daf-a15a-e17af38461bb"
      },
      "execution_count": 10,
      "outputs": [
        {
          "output_type": "stream",
          "name": "stdout",
          "text": [
            "Drive already mounted at /content/drive; to attempt to forcibly remount, call drive.mount(\"/content/drive\", force_remount=True).\n"
          ]
        }
      ]
    },
    {
      "cell_type": "code",
      "source": [
        "import pandas as pd\n",
        "import plotly.express as px\n",
        "import plotly.graph_objects as go\n"
      ],
      "metadata": {
        "id": "iWJdoUzBkR0_"
      },
      "execution_count": 3,
      "outputs": []
    },
    {
      "cell_type": "code",
      "source": [
        "\n",
        "# Step 1: Data Acquisition\n",
        "\n",
        "# Load Hourly Traffic Density Dataset\n",
        "traffic_density_data = pd.read_csv('/content/drive/MyDrive/Colab Notebooks/traffic_density_202304.csv')\n",
        "print(traffic_density_data.head)\n",
        "\n"
      ],
      "metadata": {
        "colab": {
          "base_uri": "https://localhost:8080/"
        },
        "id": "nwVjLCLpPDO0",
        "outputId": "bf83fb06-0748-4311-fc4c-fda3e7288609"
      },
      "execution_count": 4,
      "outputs": [
        {
          "output_type": "stream",
          "name": "stdout",
          "text": [
            "<bound method NDFrame.head of                    DATE_TIME  LONGITUDE   LATITUDE GEOHASH  MINIMUM_SPEED  \\\n",
            "0        2023-04-01 00:00:00  29.360962  40.816956  sxkbhn            128   \n",
            "1        2023-04-01 00:00:00  28.855591  41.047668  sxk988             48   \n",
            "2        2023-04-01 00:00:00  28.185425  41.075134  sxk19m            110   \n",
            "3        2023-04-01 00:00:00  28.789673  41.069641  sxk3xh             85   \n",
            "4        2023-04-01 00:00:00  29.141235  40.899353  sxk8xj             91   \n",
            "...                      ...        ...        ...     ...            ...   \n",
            "1611916  2023-04-30 23:00:00  29.273071  40.965271  sxkc41            162   \n",
            "1611917  2023-04-30 23:00:00  28.899536  41.058655  sxk99d             72   \n",
            "1611918  2023-04-30 23:00:00  29.119263  40.981750  sxk9ns             45   \n",
            "1611919  2023-04-30 23:00:00  29.097290  41.003723  sxk9q0            130   \n",
            "1611920  2023-04-30 23:00:00  29.108276  41.047668  sxk9w2             49   \n",
            "\n",
            "         MAXIMUM_SPEED  AVERAGE_SPEED  NUMBER_OF_VEHICLES  \n",
            "0                   20             68                 368  \n",
            "1                    4             20                  49  \n",
            "2                   69             87                  14  \n",
            "3                   27             58                  16  \n",
            "4                   39             66                  16  \n",
            "...                ...            ...                 ...  \n",
            "1611916              2             59                 366  \n",
            "1611917              2             32                  74  \n",
            "1611918              8             29                  11  \n",
            "1611919              3             38                 160  \n",
            "1611920              7             26                   6  \n",
            "\n",
            "[1611921 rows x 8 columns]>\n"
          ]
        }
      ]
    },
    {
      "cell_type": "code",
      "source": [
        "# Load Accident Announcements Dataset\n",
        "accident_announcements_data = pd.read_csv('/content/drive/MyDrive/Colab Notebooks/traffic_announcement.csv')\n",
        "print(accident_announcements_data.head)"
      ],
      "metadata": {
        "colab": {
          "base_uri": "https://localhost:8080/"
        },
        "id": "1BwrNmOLTszn",
        "outputId": "d6cba96c-2329-46a3-9ce7-4da6b80afe8f"
      },
      "execution_count": 5,
      "outputs": [
        {
          "output_type": "stream",
          "name": "stdout",
          "text": [
            "<bound method NDFrame.head of         ANNOUNCEMENT_ID       ANNOUNCEMENT_STARTING_DATETIME  \\\n",
            "0                 32396   2013-02-12 14:29:39.94 +0000 +0000   \n",
            "1                 32764   2013-02-18 08:48:15.21 +0000 +0000   \n",
            "2                 33201   2013-02-25 10:33:39.77 +0000 +0000   \n",
            "3                 33208   2013-02-25 11:43:14.27 +0000 +0000   \n",
            "4                 33211   2013-02-25 12:07:50.58 +0000 +0000   \n",
            "...                 ...                                  ...   \n",
            "160662           920181  2022-08-02 18:19:49.967 +0000 +0000   \n",
            "160663           920182  2022-08-02 18:31:28.133 +0000 +0000   \n",
            "160664           920184  2022-08-02 18:37:26.087 +0000 +0000   \n",
            "160665           920185  2022-08-02 18:38:29.123 +0000 +0000   \n",
            "160666           920186   2022-08-02 18:42:33.57 +0000 +0000   \n",
            "\n",
            "              ANNOUNCEMENT_ENDING_DATETIME  \\\n",
            "0          2013-02-12 15:12:43 +0000 +0000   \n",
            "1          2013-02-18 10:37:24 +0000 +0000   \n",
            "2          2013-02-25 13:18:59 +0000 +0000   \n",
            "3       2013-02-25 12:30:00.61 +0000 +0000   \n",
            "4        2013-02-25 12:54:36.9 +0000 +0000   \n",
            "...                                    ...   \n",
            "160662     2022-08-02 18:59:00 +0000 +0000   \n",
            "160663     2022-08-02 19:07:00 +0000 +0000   \n",
            "160664     2022-08-02 19:13:00 +0000 +0000   \n",
            "160665     2022-08-02 19:07:00 +0000 +0000   \n",
            "160666     2022-08-02 20:30:00 +0000 +0000   \n",
            "\n",
            "                                       ANNOUNCEMENT_TITLE  \\\n",
            "0        FSM  Köp. Anadolu -Avrupa  Yönü Yol Bakım Çal...   \n",
            "1         D100 Şirinevler-İncirli istikameti araç arızası   \n",
            "2       TEM Çamlıca Gişeler - Kartal yönü yol bakım ça...   \n",
            "3       D100 İncirli-Şirinevler Yönü Trafik kazası (zi...   \n",
            "4             D100 Mecidiyeköy-Çağlayan Yönü Araç Arızası   \n",
            "...                                                   ...   \n",
            "160662  O-3 Atışalanı-Hal Yönü, sol şerit trafik kazas...   \n",
            "160663  Bağlantı Yolu Nurtepe-AKOM Yönü, sol şerit tra...   \n",
            "160664  D100 Beylikdüzü-Haramidere Kavşağı Yönü, sol ş...   \n",
            "160665  TEM Ümraniye-Ataşehir Yönü, sağ şerit trafik k...   \n",
            "160666  Piyalepaşa Tünel-Kağıthane Yönü, sol şerit tra...   \n",
            "\n",
            "                                        ANNOUNCEMENT_TEXT  ANNOUNCEMENT_TYPE  \\\n",
            "0        FSM  Köp. Anadolu -Avrupa  Yönü Yol Bakım Çal...                 17   \n",
            "1       D100 Şirinevler-İncirli istikameti araç arızas...                 23   \n",
            "2       TEM Çamlıca Gişeler - Kartal yönü yol bakım ça...                 17   \n",
            "3       D100 İncirli-Şirinevler Yönü Trafik kazası (zi...                 16   \n",
            "4       D100 Mecidiyeköy-Çağlayan Yönü Araç Arızası bö...                 23   \n",
            "...                                                   ...                ...   \n",
            "160662  O-3 Atışalanı-Hal Yönü, sol şerit trafik kazas...                 16   \n",
            "160663  Bağlantı Yolu Nurtepe-AKOM Yönü, sol şerit tra...                 16   \n",
            "160664  D100 Beylikdüzü-Haramidere Kavşağı Yönü, sol ş...                 16   \n",
            "160665  TEM Ümraniye-Ataşehir Yönü, sağ şerit trafik k...                 16   \n",
            "160666  Piyalepaşa Tünel-Kağıthane Yönü, sol şerit tra...                 16   \n",
            "\n",
            "        ANNOUNCEMENT_TYPE_DESC               INTERVENTION_DATETIME  \\\n",
            "0       Bakım-Onarım Çalışması     2013-02-12 15:12:43 +0000 +0000   \n",
            "1                 Yoğun Trafik     2013-02-18 10:37:24 +0000 +0000   \n",
            "2       Bakım-Onarım Çalışması     2013-02-25 13:18:59 +0000 +0000   \n",
            "3               Kaza Bildirimi  2013-02-25 12:30:00.61 +0000 +0000   \n",
            "4                 Yoğun Trafik   2013-02-25 12:54:36.9 +0000 +0000   \n",
            "...                        ...                                 ...   \n",
            "160662          Kaza Bildirimi     2022-08-02 18:59:00 +0000 +0000   \n",
            "160663          Kaza Bildirimi     2022-08-02 19:07:00 +0000 +0000   \n",
            "160664          Kaza Bildirimi     2022-08-02 19:13:00 +0000 +0000   \n",
            "160665          Kaza Bildirimi     2022-08-02 19:07:00 +0000 +0000   \n",
            "160666          Kaza Bildirimi     2022-08-02 20:30:00 +0000 +0000   \n",
            "\n",
            "        ACCIDENT_STATUS     ACCIDENT_DESCRIPTION  CLOSED_LANE    LONGITUDE  \\\n",
            "0                   NaN                       -1          NaN  41.09228000   \n",
            "1                   NaN                       -1          NaN  40.99108600   \n",
            "2                   NaN                       -1          NaN  40.99729600   \n",
            "3                   NaN                Bilgi yok          NaN  40.99687500   \n",
            "4                   NaN                       -1          NaN  41.06635400   \n",
            "...                 ...                      ...          ...          ...   \n",
            "160662              2.0  trafik kazası (hasarlı)          1.0     28.88028   \n",
            "160663              2.0  trafik kazası (hasarlı)          1.0    28.957358   \n",
            "160664              2.0  trafik kazası (hasarlı)          1.0    28.649181   \n",
            "160665              1.0  trafik kazası (hasarlı)          1.0    29.120972   \n",
            "160666              2.0  trafik kazası (hasarlı)          1.0    28.969536   \n",
            "\n",
            "           LATITUDE  \n",
            "0       29.08649600  \n",
            "1       28.85158700  \n",
            "2       29.13596700  \n",
            "3       28.86976600  \n",
            "4       29.00156400  \n",
            "...             ...  \n",
            "160662    41.046594  \n",
            "160663    41.067652  \n",
            "160664    41.012395  \n",
            "160665    41.034774  \n",
            "160666    41.054439  \n",
            "\n",
            "[160667 rows x 13 columns]>\n"
          ]
        },
        {
          "output_type": "stream",
          "name": "stderr",
          "text": [
            "<ipython-input-5-6b072375f0a8>:2: DtypeWarning: Columns (11,12) have mixed types. Specify dtype option on import or set low_memory=False.\n",
            "  accident_announcements_data = pd.read_csv('/content/drive/MyDrive/Colab Notebooks/traffic_announcement.csv')\n"
          ]
        }
      ]
    },
    {
      "cell_type": "code",
      "source": [
        "# Step 3: Data Visualization\n",
        "\n",
        "# Create a map of Istanbul\n",
        "fig = go.Figure()\n"
      ],
      "metadata": {
        "id": "HRIoFVBVQYkP"
      },
      "execution_count": 6,
      "outputs": []
    },
    {
      "cell_type": "code",
      "source": [
        "\n",
        "# Add the hourly traffic density information to the map\n",
        "fig.add_trace(go.Scattermapbox(\n",
        "    lat=traffic_density_data['LATITUDE'],\n",
        "    lon=traffic_density_data['LONGITUDE'],\n",
        "    mode='markers',\n",
        "    marker=dict(\n",
        "        size=traffic_density_data['NUMBER_OF_VEHICLES'],\n",
        "        color=traffic_density_data['AVERAGE_SPEED'],\n",
        "        colorscale='Viridis',\n",
        "        opacity=0.7\n",
        "    ),\n",
        "    hovertext='Number of Vehicles: ' + traffic_density_data['NUMBER_OF_VEHICLES'].astype(str) +\n",
        "               '<br>Average Speed: ' + traffic_density_data['AVERAGE_SPEED'].astype(str),\n",
        "    hoverinfo='text'\n",
        "))\n"
      ],
      "metadata": {
        "id": "E5-bpQhKRGCv"
      },
      "execution_count": 7,
      "outputs": []
    },
    {
      "cell_type": "code",
      "source": [
        "\n",
        "# Add the accident announcements to the map\n",
        "fig.add_trace(go.Scattermapbox(\n",
        "    lat=accident_announcements_data['LATITUDE'],\n",
        "    lon=accident_announcements_data['LONGITUDE'],\n",
        "    mode='markers',\n",
        "    marker=dict(\n",
        "        color='red',\n",
        "        size=10,\n",
        "        symbol='circle'\n",
        "    ),\n",
        "    hovertext='Accident Announcement',\n",
        "    hoverinfo='text'\n",
        "))\n"
      ],
      "metadata": {
        "colab": {
          "base_uri": "https://localhost:8080/",
          "height": 17
        },
        "id": "Wav9vZLyRKFv",
        "outputId": "0594dfd4-92ce-4341-a309-050a8788b8b3"
      },
      "execution_count": 24,
      "outputs": [
        {
          "output_type": "display_data",
          "data": {
            "text/html": [
              "<iframe\n",
              "    scrolling=\"no\"\n",
              "    width=\"100%\"\n",
              "    height=\"545px\"\n",
              "    src=\"iframe_figures/figure_24.html\"\n",
              "    frameborder=\"0\"\n",
              "    allowfullscreen\n",
              "></iframe>\n"
            ]
          },
          "metadata": {}
        }
      ]
    },
    {
      "cell_type": "code",
      "source": [
        "\n",
        "# Update the layout of the map\n",
        "fig.update_layout(\n",
        "    mapbox=dict(\n",
        "        style='carto-positron',\n",
        "        center=dict(lat=41.0082, lon=28.9784),\n",
        "        zoom=10\n",
        "    ),\n",
        "    showlegend=False\n",
        ")\n"
      ],
      "metadata": {
        "id": "5N0A6OQSRNbQ"
      },
      "execution_count": null,
      "outputs": []
    },
    {
      "cell_type": "code",
      "source": [
        "\n",
        "# Step 4: Timelapse Animation\n",
        "\n",
        "# Create an animation frame for each hour\n",
        "frames = []\n",
        "for hour in range(24):\n",
        "    # Filter the data for the current hour\n",
        "    hour_data = traffic_density_data[traffic_density_data['DATE_TIME'] == hour]\n",
        "\n",
        "    # Create a frame for the current hour\n",
        "    frame = go.Frame(\n",
        "        data=[go.Scattermapbox(\n",
        "            lat=hour_data['LATITUDE'],\n",
        "            lon=hour_data['LONGITUDE'],\n",
        "            mode='markers',\n",
        "            marker=dict(\n",
        "                size=hour_data['NUMBER_OF_VEHICLES'],\n",
        "                color=hour_data['AVERAGE_SPEED'],\n",
        "                colorscale='Viridis',\n",
        "                opacity=0.7\n",
        "            ),\n",
        "            hovertext='Number of Vehicles: ' + hour_data['NUMBER_OF_VEHICLES'].astype(str) +\n",
        "                       '<br>Average Speed: ' + hour_data['AVERAGE_SPEED'].astype(str),\n",
        "            hoverinfo='text'\n",
        "        )],\n",
        "        name=f'Hour {hour}'\n",
        "    )\n",
        "\n",
        "    frames.append(frame)\n",
        "\n",
        "# Add the frames to the map animation\n",
        "fig.frames = frames\n"
      ],
      "metadata": {
        "id": "PdXKZDr0RQQP"
      },
      "execution_count": 11,
      "outputs": []
    },
    {
      "cell_type": "code",
      "source": [
        "# Step 5: Analysis and Insights\n",
        "\n",
        "# Perform analysis and extract insights from the data\n",
        "# Step 5: Analysis and Insights\n",
        "\n",
        "# Traffic Patterns Analysis\n",
        "peak_traffic_hours = traffic_density_data.groupby('DATE_TIME')['NUMBER_OF_VEHICLES'].sum().sort_values(ascending=False).head(5)\n",
        "print(\"Peak Traffic Hours:\")\n",
        "print(peak_traffic_hours)\n",
        "\n",
        "# Congestion Hotspots Analysis\n",
        "congestion_locations = traffic_density_data.groupby(['LATITUDE', 'LONGITUDE'])['NUMBER_OF_VEHICLES'].mean().sort_values(ascending=False).head(5)\n",
        "print(\"Congestion Hotspots:\")\n",
        "print(congestion_locations)\n",
        "\n",
        "# Accident Analysis\n",
        "accident_counts = accident_announcements_data.groupby(['LATITUDE', 'LONGITUDE']).size().sort_values(ascending=False).head(5)\n",
        "print(\"Stoppings Counts by Location:\")\n",
        "print(accident_counts)\n",
        "\n",
        "# Safety Measures\n",
        "common_accident_types = accident_announcements_data['ANNOUNCEMENT_TYPE_DESC'].value_counts().head(5)\n",
        "print(\"Most Common Stopping Types:\")\n",
        "print(common_accident_types)\n",
        "\n",
        "# Traffic Optimization\n",
        "low_speed_areas = traffic_density_data[traffic_density_data['AVERAGE_SPEED'] < 30]\n",
        "low_speed_areas_count = low_speed_areas.groupby(['LATITUDE', 'LONGITUDE']).size().sort_values(ascending=False).head(5)\n",
        "print(\"Areas with Low Speeds:\")\n",
        "print(low_speed_areas_count)\n",
        "\n",
        "\n"
      ],
      "metadata": {
        "id": "HOYQ4oKLSzyY",
        "colab": {
          "base_uri": "https://localhost:8080/"
        },
        "outputId": "f1c753f4-0aae-4579-c69d-7152238d43e7"
      },
      "execution_count": 12,
      "outputs": [
        {
          "output_type": "stream",
          "name": "stdout",
          "text": [
            "Peak Traffic Hours:\n",
            "DATE_TIME\n",
            "2023-04-08 13:00:00    357233\n",
            "2023-04-08 12:00:00    349948\n",
            "2023-04-08 16:00:00    341757\n",
            "2023-04-08 15:00:00    341061\n",
            "2023-04-08 14:00:00    340434\n",
            "Name: NUMBER_OF_VEHICLES, dtype: int64\n",
            "Congestion Hotspots:\n",
            "LATITUDE   LONGITUDE\n",
            "41.064148  28.811646    468.143066\n",
            "41.058655  28.811646    444.741606\n",
            "40.992737  29.152222    435.845255\n",
            "40.937805  29.328003    435.719708\n",
            "41.064148  28.833618    412.528467\n",
            "Name: NUMBER_OF_VEHICLES, dtype: float64\n",
            "Stoppings Counts by Location:\n",
            "LATITUDE     LONGITUDE  \n",
            "29.04711500  41.09048400    997\n",
            "28.85158700  40.99108600    716\n",
            "28.76879300  40.98605300    653\n",
            "28.94932000  41.05160000    573\n",
            "41.00563861  28.67400636    460\n",
            "dtype: int64\n",
            "Most Common Stopping Types:\n",
            "Kaza Bildirimi            77916\n",
            "Araç Arızası              54947\n",
            "Bakım-Onarım Çalışması    17463\n",
            "Yoğun Trafik               5811\n",
            "Çevre Düzenlemesi          1328\n",
            "Name: ANNOUNCEMENT_TYPE_DESC, dtype: int64\n",
            "Areas with Low Speeds:\n",
            "LATITUDE   LONGITUDE\n",
            "41.053162  28.800659    685\n",
            "41.042175  28.877563    685\n",
            "41.080627  28.987427    685\n",
            "41.014709  28.866577    685\n",
            "41.009216  28.855591    685\n",
            "dtype: int64\n"
          ]
        }
      ]
    },
    {
      "cell_type": "code",
      "source": [
        "\n",
        "# Predictive Analysis (Example: Using Linear Regression)\n",
        "from sklearn.linear_model import LinearRegression\n",
        "\n",
        "# Prepare the data for predictive analysis\n",
        "traffic_density_data['DATE_TIME'] = pd.to_datetime(traffic_density_data['DATE_TIME'])\n",
        "traffic_density_data['day_of_week'] = traffic_density_data['DATE_TIME'].dt.dayofweek\n",
        "traffic_density_data['hour_of_day'] = traffic_density_data['DATE_TIME'].dt.hour\n",
        "\n",
        "# Train a linear regression model to predict traffic density\n",
        "X = traffic_density_data[['day_of_week', 'hour_of_day']]\n",
        "y = traffic_density_data['NUMBER_OF_VEHICLES']\n",
        "\n",
        "model = LinearRegression()\n",
        "model.fit(X, y)\n",
        "\n",
        "# Predict traffic density for a specific day and hour\n",
        "day = 10  # Example: 10th day of the month\n",
        "hour = 8  # Example: 8 AM\n",
        "predicted_density = model.predict([[day, hour]])\n",
        "print(f\"Predicted Traffic Density on the 10th day at 8 AM: {predicted_density}\")\n",
        "\n"
      ],
      "metadata": {
        "colab": {
          "base_uri": "https://localhost:8080/"
        },
        "id": "OPsZz6SXUgsw",
        "outputId": "f7096935-1859-441f-d8bf-4e12b3ca59a5"
      },
      "execution_count": 13,
      "outputs": [
        {
          "output_type": "stream",
          "name": "stdout",
          "text": [
            "Predicted Traffic Density on the 10th day at 8 AM: [51.58209245]\n"
          ]
        },
        {
          "output_type": "stream",
          "name": "stderr",
          "text": [
            "/usr/local/lib/python3.10/dist-packages/sklearn/base.py:439: UserWarning:\n",
            "\n",
            "X does not have valid feature names, but LinearRegression was fitted with feature names\n",
            "\n"
          ]
        }
      ]
    },
    {
      "cell_type": "code",
      "source": [
        "\n",
        "# Update the animation settings\n",
        "fig.update_layout(\n",
        "    updatemenus=[\n",
        "        dict(\n",
        "            type='buttons',\n",
        "            buttons=[\n",
        "                dict(label='Play',\n",
        "                     method='animate',\n",
        "                     args=[None, {'frame': {'duration': 500, 'redraw': True}, 'fromcurrent': True}]),\n",
        "                dict(label='Pause',\n",
        "                     method='animate',\n",
        "                     args=[[None], {'frame': {'duration': 0, 'redraw': False}, 'mode': 'immediate'}])\n",
        "            ],\n",
        "            showactive=False,\n",
        "            direction='left',\n",
        "            x=0.1,\n",
        "            y=0,\n",
        "            xanchor='right',\n",
        "            yanchor='top'\n",
        "        )\n",
        "    ]\n",
        ")\n",
        "\n",
        "\n"
      ],
      "metadata": {
        "id": "_AkPhBTgRUqS"
      },
      "execution_count": 14,
      "outputs": []
    },
    {
      "cell_type": "code",
      "source": [
        "import plotly.io as pio\n",
        "\n",
        "# Render the map visualization\n",
        "pio.renderers.default = \"iframe\"  # Choose the appropriate renderer (\"notebook\" or \"iframe\")\n",
        "\n",
        "# Save the map visualization as HTML\n",
        "fig.write_html('map_visualization.html')\n"
      ],
      "metadata": {
        "id": "yJWbHGudS1GQ"
      },
      "execution_count": 23,
      "outputs": []
    }
  ]
}